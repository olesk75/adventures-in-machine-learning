{
  "nbformat": 4,
  "nbformat_minor": 0,
  "metadata": {
    "colab": {
      "name": "Tensorflow MNIST test.ipynb",
      "provenance": [],
      "collapsed_sections": [],
      "authorship_tag": "ABX9TyMcU/e5XvPLckM5pzUAOSlC",
      "include_colab_link": true
    },
    "kernelspec": {
      "name": "python3",
      "display_name": "Python 3"
    },
    "accelerator": "GPU"
  },
  "cells": [
    {
      "cell_type": "markdown",
      "metadata": {
        "id": "view-in-github",
        "colab_type": "text"
      },
      "source": [
        "<a href=\"https://colab.research.google.com/github/olesk75/adventures-in-machine-learning/blob/main/Tensorflow_MNIST_test.ipynb\" target=\"_parent\"><img src=\"https://colab.research.google.com/assets/colab-badge.svg\" alt=\"Open In Colab\"/></a>"
      ]
    },
    {
      "cell_type": "code",
      "metadata": {
        "colab": {
          "base_uri": "https://localhost:8080/"
        },
        "id": "NsgW7A3HMgIk",
        "outputId": "b2f06be2-6cda-475b-af30-62daaf29d121"
      },
      "source": [
        "# Load the TensorBoard notebook extension - for later experiements\n",
        "%load_ext tensorboard"
      ],
      "execution_count": 13,
      "outputs": [
        {
          "output_type": "stream",
          "text": [
            "The tensorboard extension is already loaded. To reload it, use:\n",
            "  %reload_ext tensorboard\n"
          ],
          "name": "stdout"
        }
      ]
    },
    {
      "cell_type": "code",
      "metadata": {
        "id": "iKMee3eWqoMu"
      },
      "source": [
        "import tensorflow as tf\n",
        "import numpy as np\n",
        "import keras\n",
        "from keras.utils.vis_utils import plot_model\n",
        "from IPython.display import Image "
      ],
      "execution_count": 14,
      "outputs": []
    },
    {
      "cell_type": "code",
      "metadata": {
        "colab": {
          "base_uri": "https://localhost:8080/"
        },
        "id": "5ooOVeEzuI3X",
        "outputId": "923231c7-64ba-4a59-96dd-dc5e19137302"
      },
      "source": [
        "print(tf.__version__)\n",
        "device_name = tf.test.gpu_device_name()\n",
        "if device_name != '/device:GPU:0':\n",
        "  print('GPU device not found')\n",
        "else: \n",
        "  print('Found GPU at: {}'.format(device_name))"
      ],
      "execution_count": 15,
      "outputs": [
        {
          "output_type": "stream",
          "text": [
            "2.4.0\n",
            "Found GPU at: /device:GPU:0\n"
          ],
          "name": "stdout"
        }
      ]
    },
    {
      "cell_type": "code",
      "metadata": {
        "id": "wrN_O4P_u-WK"
      },
      "source": [
        "# The famous MNIST dataset of 28x28 images hand-written digits (0-9)\n",
        "mnist = tf.keras.datasets.mnist"
      ],
      "execution_count": 16,
      "outputs": []
    },
    {
      "cell_type": "code",
      "metadata": {
        "id": "WIDEwcNKvHsY"
      },
      "source": [
        "# x_train, x_test: uint8 28x28 arrays of grayscale image data with shapes (num_samples, 28, 28).\n",
        "# y_train, y_test: uint8 arrays of digit labels (integers in range 0-9) with shapes (num_samples,).\n",
        " \n",
        " \n",
        " # First training data, then test data\n",
        " # Training data is essentially example hand-written digits (x_train) in image arrays,\n",
        " # and which number each image corresponds to in the y_train array.\n",
        "(x_train, y_train),(x_test, y_test) = mnist.load_data()"
      ],
      "execution_count": 17,
      "outputs": []
    },
    {
      "cell_type": "code",
      "metadata": {
        "colab": {
          "base_uri": "https://localhost:8080/"
        },
        "id": "cS8zYBx7HUuk",
        "outputId": "deb9f85b-3179-4002-e05b-fdc7686c8281"
      },
      "source": [
        "# Attempts at manually flattening\n",
        "#Flatten the input \n",
        "#X = X.reshape(X.shape[0], 28*28)\n",
        "#x_train.reshape(x_train[0], 28*28)\n",
        "#x_test.reshape(x_test[0], 28*28)\n",
        "print(type(x_train))\n",
        "print(x_train.shape)"
      ],
      "execution_count": 18,
      "outputs": [
        {
          "output_type": "stream",
          "text": [
            "<class 'numpy.ndarray'>\n",
            "(60000, 28, 28)\n"
          ],
          "name": "stdout"
        }
      ]
    },
    {
      "cell_type": "code",
      "metadata": {
        "id": "XWpuPmoc9C60"
      },
      "source": [
        "# We have 0-255 values and need 0.0-1.0 so we normalize\n",
        "x_train = tf.keras.utils.normalize(x_train, axis=1)\n",
        "x_test = tf.keras.utils.normalize(x_test, axis=1)"
      ],
      "execution_count": 19,
      "outputs": []
    },
    {
      "cell_type": "markdown",
      "metadata": {
        "id": "56ZbfBfG-yOR"
      },
      "source": [
        "### Model construction"
      ]
    },
    {
      "cell_type": "code",
      "metadata": {
        "id": "TmKm3yHbNUdK"
      },
      "source": [
        "# Sequential means we have a feedforward neural network (connections between the nodes do not form a cycle)\n",
        "model = tf.keras.models.Sequential()"
      ],
      "execution_count": 20,
      "outputs": []
    },
    {
      "cell_type": "code",
      "metadata": {
        "id": "X-pfS8apqxjl"
      },
      "source": [
        "# Adds a model that reduces 28x28 2D arrays to single 1D array in out INPUT layer\n",
        "# (we could've used numpy or anything else for this)\n",
        "model.add(tf.keras.layers.Flatten()) # This should give us a single 784 element array (28x28)\n",
        "\n",
        "# densely-connected NN layer with 128 neurons in a layer\n",
        "# activation function is the function that makes the layer fire\n",
        "# tf.nn.relu is the standard default activation function\n",
        "model.add(tf.keras.layers.Dense(128, activation=tf.nn.relu))\n",
        "\n",
        "# densely-connected NN layer with 128 neurons in a layer\n",
        "# activation function is the function that makes the layer fire\n",
        "# tf.nn.relu is the standard default activation function\n",
        "model.add(tf.keras.layers.Dense(128, activation=tf.nn.relu))\n",
        "\n",
        "# densely-connected OUTPUT layer with 128 neurons in a layer\n",
        "# activation function is the function that makes the layer fire\n",
        "# tf.nn.relu is the standard default activation function\n",
        "model.add(tf.keras.layers.Dense(10, activation=tf.nn.softmax))"
      ],
      "execution_count": 21,
      "outputs": []
    },
    {
      "cell_type": "code",
      "metadata": {
        "id": "GZJHebVnNYjT"
      },
      "source": [
        "# Note that the NN will always optmize for minimum loss\n",
        "# adam is the default go-to optimizer\n",
        "model.compile(optimizer='adam', loss='sparse_categorical_crossentropy', metrics=['accuracy'] )"
      ],
      "execution_count": 22,
      "outputs": []
    },
    {
      "cell_type": "code",
      "metadata": {
        "id": "IneuCEH1BWC2",
        "colab": {
          "base_uri": "https://localhost:8080/"
        },
        "outputId": "905c0622-3f7d-44a4-df75-ea2f4978edac"
      },
      "source": [
        "# Running the model three times\n",
        "model.fit(x_train, y_train, epochs=3)\n",
        "\n",
        "# As the model could overfit (just memorize every sample instead of creating general rules), we must check\n",
        "val_loss, val_acc = model.evaluate(x_test, y_test)\n",
        "\n",
        "print(f'Evaluated loss: {val_loss}\\nEvaluated accuracy: {val_acc}')"
      ],
      "execution_count": 23,
      "outputs": [
        {
          "output_type": "stream",
          "text": [
            "Epoch 1/3\n",
            "1875/1875 [==============================] - 4s 2ms/step - loss: 0.4637 - accuracy: 0.8672\n",
            "Epoch 2/3\n",
            "1875/1875 [==============================] - 3s 2ms/step - loss: 0.1149 - accuracy: 0.9657\n",
            "Epoch 3/3\n",
            "1875/1875 [==============================] - 3s 2ms/step - loss: 0.0740 - accuracy: 0.9774\n",
            "313/313 [==============================] - 1s 2ms/step - loss: 0.0904 - accuracy: 0.9733\n",
            "Evaluated loss: 0.09040454775094986\n",
            "Evaluated accuracy: 0.9732999801635742\n"
          ],
          "name": "stdout"
        }
      ]
    },
    {
      "cell_type": "code",
      "metadata": {
        "colab": {
          "base_uri": "https://localhost:8080/"
        },
        "id": "_e6sQh8kvcAn",
        "outputId": "9f8c9203-649e-4df2-9cc3-00b5388d2a10"
      },
      "source": [
        "# Here we save the trained model\n",
        "model.save('basic_tester_mnist.model')\n",
        "# Then, for testing, we load the  trained model\n",
        "new_model = tf.keras.models.load_model('basic_tester_mnist.model')"
      ],
      "execution_count": 24,
      "outputs": [
        {
          "output_type": "stream",
          "text": [
            "INFO:tensorflow:Assets written to: basic_tester_mnist.model/assets\n"
          ],
          "name": "stdout"
        }
      ]
    },
    {
      "cell_type": "code",
      "metadata": {
        "colab": {
          "base_uri": "https://localhost:8080/"
        },
        "id": "8CuCudqjvSd2",
        "outputId": "542da4de-9e97-422b-a6ad-d74b60fab3f2"
      },
      "source": [
        "# We now use the model we loaded back in to find predictions for the sample dataset x_test\n",
        "# Returns array for each element with predictions for each digit (0-9)\n",
        "predictions = new_model.predict(x_test)\n",
        "\n",
        "# Finding the strongest prediction for the second element (a badly written 2)\n",
        "best_match = np.argmax(predictions[1])\n",
        "print(f'Best match for our badly written 2 is: {best_match}')"
      ],
      "execution_count": 25,
      "outputs": [
        {
          "output_type": "stream",
          "text": [
            "Best match for our badly written 2 is: 2\n"
          ],
          "name": "stdout"
        }
      ]
    },
    {
      "cell_type": "markdown",
      "metadata": {
        "id": "blX2rrSpNnoT"
      },
      "source": [
        "Adding a visualization"
      ]
    },
    {
      "cell_type": "code",
      "metadata": {
        "colab": {
          "base_uri": "https://localhost:8080/",
          "height": 533
        },
        "id": "psw9V3nXGLT5",
        "outputId": "fedcbf56-6189-46e8-83a0-8d2f6bdb1a05"
      },
      "source": [
        "plot_model(model, show_shapes=True, show_layer_names=True, to_file='model.png')\n",
        "Image('model.png')"
      ],
      "execution_count": 26,
      "outputs": [
        {
          "output_type": "execute_result",
          "data": {
            "image/png": "[encoded data removed]",
            "text/plain": [
              "<IPython.core.display.Image object>"
            ]
          },
          "metadata": {
            "tags": []
          },
          "execution_count": 26
        }
      ]
    }
  ]
}