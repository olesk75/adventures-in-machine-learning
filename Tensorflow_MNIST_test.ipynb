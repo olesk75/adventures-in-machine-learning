{
  "nbformat": 4,
  "nbformat_minor": 0,
  "metadata": {
    "colab": {
      "name": "Tensorflow MNIST test.ipynb",
      "provenance": [],
      "collapsed_sections": [],
      "authorship_tag": "ABX9TyMi8BR7i6Jpv+5YxTIvgD7s",
      "include_colab_link": true
    },
    "kernelspec": {
      "name": "python3",
      "display_name": "Python 3"
    },
    "accelerator": "TPU"
  },
  "cells": [
    {
      "cell_type": "markdown",
      "metadata": {
        "id": "view-in-github",
        "colab_type": "text"
      },
      "source": [
        "<a href=\"https://colab.research.google.com/github/olesk75/adventures-in-machine-learning/blob/main/Tensorflow_MNIST_test.ipynb\" target=\"_parent\"><img src=\"https://colab.research.google.com/assets/colab-badge.svg\" alt=\"Open In Colab\"/></a>"
      ]
    },
    {
      "cell_type": "code",
      "metadata": {
        "id": "BojWgpZDrf1p"
      },
      "source": [
        "#!pip install tensorflow-gpu"
      ],
      "execution_count": 5,
      "outputs": []
    },
    {
      "cell_type": "code",
      "metadata": {
        "id": "iKMee3eWqoMu"
      },
      "source": [
        "%tensorflow_version 2.x\n",
        "import tensorflow as tf\n",
        "import numpy as np\n",
        "import keras"
      ],
      "execution_count": 6,
      "outputs": []
    },
    {
      "cell_type": "code",
      "metadata": {
        "colab": {
          "base_uri": "https://localhost:8080/"
        },
        "id": "5ooOVeEzuI3X",
        "outputId": "8dac1c0f-62e5-4e77-c4d3-6b2789ef1e71"
      },
      "source": [
        "print(tf.__version__)\n",
        "device_name = tf.test.gpu_device_name()\n",
        "if device_name != '/device:GPU:0':\n",
        "  print('GPU device not found')\n",
        "else: \n",
        "  print('Found GPU at: {}'.format(device_name))"
      ],
      "execution_count": 7,
      "outputs": [
        {
          "output_type": "stream",
          "text": [
            "2.4.0\n",
            "GPU device not found\n"
          ],
          "name": "stdout"
        }
      ]
    },
    {
      "cell_type": "code",
      "metadata": {
        "id": "wrN_O4P_u-WK"
      },
      "source": [
        "# The famous MNIST dataset of 28x28 images hand-written digits (0-9)\n",
        "mnist = tf.keras.datasets.mnist"
      ],
      "execution_count": 8,
      "outputs": []
    },
    {
      "cell_type": "code",
      "metadata": {
        "colab": {
          "base_uri": "https://localhost:8080/"
        },
        "id": "WIDEwcNKvHsY",
        "outputId": "c415272e-bc22-42ff-9769-b8347898cefb"
      },
      "source": [
        "# x_train, x_test: uint8 28x28 arrays of grayscale image data with shapes (num_samples, 28, 28).\n",
        "# y_train, y_test: uint8 arrays of digit labels (integers in range 0-9) with shapes (num_samples,).\n",
        " \n",
        " \n",
        " # First training data, then test data\n",
        " # Training data is essentially example hand-written digits (x_train) in image arrays,\n",
        " # and which number each image corresponds to in the y_train array.\n",
        "(x_train, y_train),(x_test, y_test) = mnist.load_data()"
      ],
      "execution_count": 9,
      "outputs": [
        {
          "output_type": "stream",
          "text": [
            "Downloading data from https://storage.googleapis.com/tensorflow/tf-keras-datasets/mnist.npz\n",
            "11493376/11490434 [==============================] - 0s 0us/step\n"
          ],
          "name": "stdout"
        }
      ]
    },
    {
      "cell_type": "code",
      "metadata": {
        "id": "XWpuPmoc9C60"
      },
      "source": [
        "# We have 0-255 values and need 0.0-1.0 so we normalize\n",
        "x_train = tf.keras.utils.normalize(x_train, axis=1)\n",
        "x_test = tf.keras.utils.normalize(x_test, axis=1)"
      ],
      "execution_count": 10,
      "outputs": []
    },
    {
      "cell_type": "markdown",
      "metadata": {
        "id": "56ZbfBfG-yOR"
      },
      "source": [
        "### Model construction"
      ]
    },
    {
      "cell_type": "code",
      "metadata": {
        "colab": {
          "base_uri": "https://localhost:8080/"
        },
        "id": "X-pfS8apqxjl",
        "outputId": "e0bcb50a-23d9-4425-edaf-eaee67658f62"
      },
      "source": [
        "# Sequential means we have a feedforward neural network (connections between the nodes do not form a cycle)\n",
        "model = tf.keras.models.Sequential()\n",
        "\n",
        "# Adds a model that reduces 28x28 2D arrays to single 1D array in out INPUT layer\n",
        "# (we could've used numpy or anything else for this)\n",
        "model.add(tf.keras.layers.Flatten()) # This should give us a single 784 element array (28x28)\n",
        "\n",
        "# densely-connected NN layer with 128 neurons in a layer\n",
        "# activation function is the function that makes the layer fire\n",
        "# tf.nn.relu is the standard default activation function\n",
        "model.add(tf.keras.layers.Dense(128, activation=tf.nn.relu))\n",
        "\n",
        "# densely-connected NN layer with 128 neurons in a layer\n",
        "# activation function is the function that makes the layer fire\n",
        "# tf.nn.relu is the standard default activation function\n",
        "model.add(tf.keras.layers.Dense(128, activation=tf.nn.relu))\n",
        "\n",
        "# densely-connected OUTPUT layer with 128 neurons in a layer\n",
        "# activation function is the function that makes the layer fire\n",
        "# tf.nn.relu is the standard default activation function\n",
        "model.add(tf.keras.layers.Dense(10, activation=tf.nn.softmax))\n",
        "\n",
        "# Note that the NN will always optmize for minimum loss\n",
        "# adam is the default go-to optimizer\n",
        "model.compile(optimizer='adam', loss='sparse_categorical_crossentropy', metrics=['accuracy'] )"
      ],
      "execution_count": 11,
      "outputs": [
        {
          "output_type": "stream",
          "text": [
            "Epoch 1/3\n",
            "1875/1875 [==============================] - 4s 2ms/step - loss: 0.4662 - accuracy: 0.8659\n",
            "Epoch 2/3\n",
            "1875/1875 [==============================] - 4s 2ms/step - loss: 0.1132 - accuracy: 0.9649\n",
            "Epoch 3/3\n",
            "1875/1875 [==============================] - 5s 3ms/step - loss: 0.0680 - accuracy: 0.9798\n",
            "313/313 [==============================] - 1s 2ms/step - loss: 0.0978 - accuracy: 0.9711\n",
            "Evaluated loss: 0.09779049456119537\n",
            "Evaluated accuracy: 0.9710999727249146\n"
          ],
          "name": "stdout"
        }
      ]
    },
    {
      "cell_type": "code",
      "metadata": {
        "id": "IneuCEH1BWC2"
      },
      "source": [
        "# Running the model three times\n",
        "model.fit(x_train, y_train, epochs=3)\n",
        "\n",
        "# As the model could overfit (just memorize every sample instead of creating general rules), we must check\n",
        "val_loss, val_acc = model.evaluate(x_test, y_test)\n",
        "\n",
        "print(f'Evaluated loss: {val_loss}\\nEvaluated accuracy: {val_acc}')"
      ],
      "execution_count": null,
      "outputs": []
    },
    {
      "cell_type": "code",
      "metadata": {
        "colab": {
          "base_uri": "https://localhost:8080/"
        },
        "id": "_e6sQh8kvcAn",
        "outputId": "8226bec2-f2a1-498f-cb50-094a70fd4e89"
      },
      "source": [
        "# Here we save the trained model\n",
        "model.save('basic_tester_mnist.model')"
      ],
      "execution_count": 12,
      "outputs": [
        {
          "output_type": "stream",
          "text": [
            "INFO:tensorflow:Assets written to: basic_tester_mnist.model/assets\n"
          ],
          "name": "stdout"
        }
      ]
    },
    {
      "cell_type": "code",
      "metadata": {
        "colab": {
          "base_uri": "https://localhost:8080/"
        },
        "id": "8CuCudqjvSd2",
        "outputId": "c589252a-d7ec-4d2f-b718-d50fe76de7ee"
      },
      "source": [
        "# Then, for testing, we load the  trained model\n",
        "new_model = tf.keras.models.load_model('basic_tester_mnist.model')\n",
        "\n",
        "# We now use the model we loaded back in to find predictions for the sample dataset x_test\n",
        "# Returns array for each element with predictions for each digit (0-9)\n",
        "predictions = new_model.predict(x_test)\n",
        "\n",
        "# Finding the strongest prediction for the second element (a badly written 2)\n",
        "best_match = np.argmax(predictions[1])\n",
        "\n",
        "print(f'Best match for our badly written 2 is: {best_match}')"
      ],
      "execution_count": 15,
      "outputs": [
        {
          "output_type": "stream",
          "text": [
            "Best match for our badly written 2 is: 2\n"
          ],
          "name": "stdout"
        }
      ]
    }
  ]
}